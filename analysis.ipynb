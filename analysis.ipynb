{
 "cells": [
  {
   "cell_type": "markdown",
   "metadata": {},
   "source": [
    "# Title\n"
   ]
  },
  {
   "cell_type": "markdown",
   "metadata": {},
   "source": [
    "## Import Libraries and Data\n",
    "See prepare-data.ipynb for detail on data prep"
   ]
  },
  {
   "cell_type": "code",
   "execution_count": 1,
   "metadata": {},
   "outputs": [],
   "source": [
    "#import libs\n",
    "import matplotlib.pyplot as plt\n",
    "import numpy as np\n",
    "import pandas as pd\n",
    "import seaborn as sns\n",
    "import warnings\n",
    "import random\n",
    "warnings.filterwarnings('ignore')\n",
    "from datetime import datetime\n",
    "import statsmodels.formula.api as smf\n",
    "\n",
    "from sklearn.decomposition import PCA"
   ]
  },
  {
   "cell_type": "code",
   "execution_count": null,
   "metadata": {},
   "outputs": [],
   "source": [
    "# read in clean data\n",
    "airbnb_data_dummies = pd.read_csv('./data/clean/cleaned-listings-dummies.csv')\n",
    "airbnb_data_dummies_bio = pd.read_csv('./data/clean/cleaned-listings-dummies-bio.csv')\n",
    "airbnb_data_basic = pd.read_csv('./data/clean/cleaned-listings-base.csv')\n",
    "\n",
    "agg_pop_words = pd.read_csv('./output.csv')\n",
    "agg_pop_words.rename(index=str, columns={\"Unnamed: 0\": \"id\", \"0\": \"top_word_counts\"} , inplace=True)\n"
   ]
  },
  {
   "cell_type": "code",
   "execution_count": null,
   "metadata": {},
   "outputs": [],
   "source": [
    "# drop nas\n",
    "airbnb_data_dummies_bio = airbnb_data_dummies_bio.dropna()"
   ]
  },
  {
   "cell_type": "code",
   "execution_count": null,
   "metadata": {},
   "outputs": [],
   "source": [
    "# get counts for all words and phrases\n",
    "\n",
    "# scores = pd.read_csv('./all_counts.csv')\n",
    "# scores.rename(index=str, columns={\"Unnamed: 0\": \"phrase\", \"0\": \"counts\"} , inplace=True)\n",
    "# scores.sort_values(by=['counts'], ascending=False, inplace=True)\n",
    "\n",
    "# scores"
   ]
  },
  {
   "cell_type": "code",
   "execution_count": null,
   "metadata": {
    "scrolled": false
   },
   "outputs": [],
   "source": [
    "# get counts for all phrase scores\n",
    "\n",
    "# phrases_scores = pd.read_csv('./just-phrases.csv')\n",
    "# phrases_scores.sort_values(by=['counts'], ascending=False, inplace=True)\n",
    "# phrases_scores = phrases_scores[['phrase', 'counts']]\n",
    "\n",
    "# phrases_scores"
   ]
  },
  {
   "cell_type": "code",
   "execution_count": null,
   "metadata": {},
   "outputs": [],
   "source": [
    "# list(airbnb_data_dummies_bio.columns.values)\n",
    "# airbnb_data_dummies_bio.bio_score\n"
   ]
  },
  {
   "cell_type": "code",
   "execution_count": null,
   "metadata": {},
   "outputs": [],
   "source": [
    "# join top scores with full bio set\n",
    "\n",
    "airbnb_data_dummies_bio = airbnb_data_dummies_bio.set_index('id')\n",
    "agg_pop_words = agg_pop_words.set_index('id')\n",
    "\n",
    "airbnb_data_dummies_bio = airbnb_data_dummies_bio.join(other=agg_pop_words, how='inner')"
   ]
  },
  {
   "cell_type": "code",
   "execution_count": null,
   "metadata": {},
   "outputs": [],
   "source": [
    "# pca_red = PCA(n_components=10).fit_transform(airbnb_data_dummies_bio)\n",
    "\n",
    "# pca_red.explained_variance_ratio_"
   ]
  },
  {
   "cell_type": "code",
   "execution_count": null,
   "metadata": {
    "scrolled": false
   },
   "outputs": [],
   "source": [
    "# large formula\n",
    "formula = 'price ~  top_word_counts + host_response_rate + accommodates + guests_included + bathrooms + bedrooms + beds + number_of_reviews + review_scores_rating + review_scores_accuracy + review_scores_cleanliness + review_scores_checkin + review_scores_communication + review_scores_location + review_scores_value + description_score + bio_score + host_is_superhost + neighbourhood_Ballard  + neighbourhood_Cascade  + neighbourhood_Delridge + neighbourhood_Downtown + neighbourhood_Interbay + neighbourhood_Magnolia + neighbourhood_Northgate + property_type_Apartment  + property_type_Condominium + property_type_House + property_type_Loft + property_type_Townhouse + neighbourhood_Beacon_Hill + neighbourhood_Capitol_Hill + neighbourhood_Central_Area + neighbourhood_Lake_City + neighbourhood_Other_neighborhoods + neighbourhood_Queen_Anne + neighbourhood_Rainier_Valley + neighbourhood_Seward_Park + neighbourhood_University_District + neighbourhood_West_Seattle + property_type_Bed_Breakfast + room_type_Entire_home_apt + room_type_Private_room + room_type_Shared_room'\n",
    "\n",
    "formula_price = 'price ~  top_word_counts + host_response_rate + accommodates + guests_included + bathrooms + bedrooms + number_of_reviews + review_scores_rating + review_scores_cleanliness + review_scores_location + review_scores_value + description_score + bio_score + host_is_superhost + neighbourhood_Ballard  + neighbourhood_Cascade  + neighbourhood_Delridge + neighbourhood_Downtown + neighbourhood_Magnolia + neighbourhood_Northgate + property_type_Apartment  + property_type_Condominium + property_type_House + property_type_Loft + property_type_Townhouse + neighbourhood_Beacon_Hill + neighbourhood_Capitol_Hill + neighbourhood_Central_Area + neighbourhood_Lake_City + neighbourhood_Other_neighborhoods + neighbourhood_Queen_Anne + neighbourhood_Rainier_Valley + neighbourhood_Seward_Park + neighbourhood_University_District + room_type_Entire_home_apt + room_type_Private_room + room_type_Shared_room'\n",
    "\n",
    "formula_review = 'review_scores_rating ~  price + top_word_counts + host_response_rate + accommodates + guests_included + bathrooms + bedrooms + number_of_reviews + review_scores_cleanliness + review_scores_location + review_scores_value + description_score + bio_score + host_is_superhost + neighbourhood_Ballard  + neighbourhood_Cascade  + neighbourhood_Delridge + neighbourhood_Downtown + neighbourhood_Magnolia + neighbourhood_Northgate + property_type_Apartment  + property_type_Condominium + property_type_House + property_type_Loft + property_type_Townhouse + neighbourhood_Beacon_Hill + neighbourhood_Capitol_Hill + neighbourhood_Central_Area + neighbourhood_Lake_City + neighbourhood_Other_neighborhoods + neighbourhood_Queen_Anne + neighbourhood_Rainier_Valley + neighbourhood_Seward_Park + neighbourhood_University_District + room_type_Entire_home_apt + room_type_Private_room + room_type_Shared_room'\n",
    "\n",
    "formula_slim = 'price ~  top_word_counts + host_response_rate + description_score + bio_score + host_is_superhost'\n",
    "\n",
    "# fit ordinary least squares model\n",
    "mod1 = smf.ols(formula=formula_price, data=airbnb_data_dummies_bio).fit()\n",
    "mod1.summary()\n",
    "\n",
    "# # fit ordinary least squares model\n",
    "# mod2 = smf.ols(formula=formula_slim, data=airbnb_data_dummies_bio).fit()\n",
    "# mod2.summary()"
   ]
  },
  {
   "cell_type": "code",
   "execution_count": null,
   "metadata": {},
   "outputs": [],
   "source": [
    "plt.figure(figsize=(12,8))\n",
    "plt.scatter(airbnb_data_dummies_bio['bio_score'], airbnb_data_dummies_bio['price'], alpha = .4)\n",
    "plt.xlabel('Sentiment Score of Host Bio')\n",
    "plt.ylabel('Price (USD)')\n",
    "plt.title('Sentiment Score vs. Price')"
   ]
  },
  {
   "cell_type": "code",
   "execution_count": null,
   "metadata": {},
   "outputs": [],
   "source": [
    "plt.figure(figsize=(12,8))\n",
    "\n",
    "top_words_barplot = sns.barplot(x=\"top_word_counts\", y=\"price\", data=airbnb_data_dummies_bio)\n",
    "\n",
    "top_words_barplot.set(xlabel='Count Of Top Words And Pharses In Host Bio', ylabel='Price (USD)',\n",
    "                      title='Listing Price And Prevalence Of Select Phrases In Host Bio')\n",
    "\n",
    "top_words_barplot"
   ]
  }
 ],
 "metadata": {
  "kernelspec": {
   "display_name": "Python 3",
   "language": "python",
   "name": "python3"
  },
  "language_info": {
   "codemirror_mode": {
    "name": "ipython",
    "version": 3
   },
   "file_extension": ".py",
   "mimetype": "text/x-python",
   "name": "python",
   "nbconvert_exporter": "python",
   "pygments_lexer": "ipython3",
   "version": "3.7.1"
  }
 },
 "nbformat": 4,
 "nbformat_minor": 2
}
